{
 "cells": [
  {
   "attachments": {},
   "cell_type": "markdown",
   "metadata": {},
   "source": [
    "<a href=\"https://colab.research.google.com/github/tomoyaf/hackathon_ai_crypto/blob/main/ml/rvc_train_dataset.ipynb\">\n",
    "<img src=\"https://colab.research.google.com/assets/colab-badge.svg\" alt=\"Open In Colab\">\n",
    "</a>"
   ]
  },
  {
   "attachments": {},
   "cell_type": "markdown",
   "metadata": {},
   "source": [
    "1. YouTubeから素材音声DL\n",
    "2. wav変換\n",
    "3. ボーカル分離\n",
    "4. Google Drive保存"
   ]
  },
  {
   "cell_type": "code",
   "execution_count": null,
   "metadata": {},
   "outputs": [],
   "source": [
    "\n",
    "%pip install yt-dlp\n"
   ]
  },
  {
   "cell_type": "code",
   "execution_count": null,
   "metadata": {},
   "outputs": [],
   "source": [
    "\n",
    "from yt_dlp import YoutubeDL\n",
    "import shutil\n",
    "\n",
    "%mkdir /content/download\n",
    "%cd /content/download\n",
    "\n",
    "id = \"cgNESp3h5UU\" #@param {type:\"string\"}\n",
    "url = \"https://www.youtube.com/watch?v=\" + id\n",
    "\n",
    "ydl_video_opts = {\n",
    "    'outtmpl': '%(id)s'+'.wav',\n",
    "    'format': 'bestaudio'\n",
    "}\n",
    "\n",
    "with YoutubeDL(ydl_video_opts) as ydl:\n",
    "    ydl.download([url])\n"
   ]
  },
  {
   "cell_type": "code",
   "execution_count": null,
   "metadata": {},
   "outputs": [],
   "source": [
    "\n",
    "%mkdir /content/result\n",
    "%cd /content/result\n",
    "\n",
    "!ffmpeg -i /content/download/{id}.wav /content/result/{id}.wav\n"
   ]
  },
  {
   "cell_type": "code",
   "execution_count": null,
   "metadata": {},
   "outputs": [],
   "source": [
    "\n",
    "from google.colab import drive\n",
    "drive.mount('/content/drive')\n"
   ]
  },
  {
   "cell_type": "code",
   "execution_count": null,
   "metadata": {},
   "outputs": [],
   "source": [
    "\n",
    "%mkdir /content/separated\n",
    "\n",
    "%pip install demucs\n"
   ]
  },
  {
   "cell_type": "code",
   "execution_count": null,
   "metadata": {},
   "outputs": [],
   "source": [
    "!demucs --two-stems=vocals /content/result/{id}.wav"
   ]
  },
  {
   "cell_type": "code",
   "execution_count": null,
   "metadata": {},
   "outputs": [],
   "source": [
    "\n",
    "!mkdir /content/drive/MyDrive/ml/ai_crypto/{id}\n",
    "\n",
    "!cp /content/result/separated/htdemucs/{id}/vocals.wav /content/drive/MyDrive/ml/ai_crypto/{id}\n",
    "!cp /content/result/separated/htdemucs/{id}/no_vocals.wav /content/drive/MyDrive/ml/ai_crypto/{id}\n"
   ]
  }
 ],
 "metadata": {
  "kernelspec": {
   "display_name": "base",
   "language": "python",
   "name": "python3"
  },
  "language_info": {
   "codemirror_mode": {
    "name": "ipython",
    "version": 3
   },
   "file_extension": ".py",
   "mimetype": "text/x-python",
   "name": "python",
   "nbconvert_exporter": "python",
   "pygments_lexer": "ipython3",
   "version": "3.9.13"
  },
  "orig_nbformat": 4
 },
 "nbformat": 4,
 "nbformat_minor": 2
}
